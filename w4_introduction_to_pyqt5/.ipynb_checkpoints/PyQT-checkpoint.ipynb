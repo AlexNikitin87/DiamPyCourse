{
 "cells": [
  {
   "cell_type": "markdown",
   "metadata": {},
   "source": [
    "# Конфигурирование pycharm\n",
    "\n",
    "Для работы с приложениями PyQT можно сконфигурировать свою IDE так, чтобы пользоваться ей было удобно. Для настройки нужно вызвать меню File>Settings"
   ]
  },
  {
   "cell_type": "markdown",
   "metadata": {},
   "source": [
    "## Добавление Qt Designer в список утилит\n",
    "\n",
    "<img src=\"./External_tools_config.JPG\"></img>"
   ]
  },
  {
   "cell_type": "markdown",
   "metadata": {},
   "source": [
    "## Обявление новых типов файлов\n",
    "\n",
    "<img src=\"file_formats.JPG\"></img>"
   ]
  },
  {
   "cell_type": "raw",
   "metadata": {},
   "source": [
    "#!-*-coding:utf-8-*-\n",
    "import sys\n",
    " \n",
    "# import PyQt5\n",
    "from PyQt5.QtWidgets import *\n",
    "from PyQt5 import uic\n",
    " \n",
    "( Ui_MainWindow, QMainWindow ) = uic.loadUiType( '${Form_file}.ui' )\n",
    " \n",
    "class MainWindow ( QMainWindow ):\n",
    "    \"\"\"MainWindow inherits QMainWindow\"\"\"\n",
    " \n",
    "    def __init__ ( self, parent = None ):\n",
    "        QMainWindow.__init__( self, parent )\n",
    "        self.ui = Ui_MainWindow()\n",
    "        self.ui.setupUi( self )\n",
    " \n",
    "    def __del__ ( self ):\n",
    "        self.ui = None\n",
    " \n",
    "#-----------------------------------------------------#\n",
    "if __name__ == '__main__':\n",
    " \n",
    "    # create application\n",
    "    app = QApplication( sys.argv )\n",
    "    app.setApplicationName( '${PROJECT_NAME}' )\n",
    " \n",
    "    # create widget\n",
    "    w = MainWindow()\n",
    "    w.setWindowTitle( '${PROJECT_NAME}' )\n",
    "    w.show()\n",
    "    \n",
    "    app.installEventFilter(w)\n",
    " \n",
    "    # execute application\n",
    "    sys.exit( app.exec_() )"
   ]
  },
  {
   "cell_type": "raw",
   "metadata": {},
   "source": [
    "<?xml version=\"1.0\" encoding=\"UTF-8\"?>\n",
    "<ui version=\"4.0\">\n",
    "<class>Form</class>\n",
    "<widget class=\"QWidget\" name=\"Form\">\n",
    "<property name=\"geometry\">\n",
    "<rect>\n",
    "<x>0</x>\n",
    "<y>0</y>\n",
    "<width>640</width>\n",
    "<height>480</height>\n",
    "</rect>\n",
    "</property>\n",
    "<property name=\"windowTitle\">\n",
    "<string>Form</string>\n",
    "</property>\n",
    "</widget>\n",
    "<resources/>\n",
    "<connections/>\n",
    "</ui>"
   ]
  }
 ],
 "metadata": {
  "kernelspec": {
   "display_name": "Python 3",
   "language": "python",
   "name": "python3"
  },
  "language_info": {
   "codemirror_mode": {
    "name": "ipython",
    "version": 3
   },
   "file_extension": ".py",
   "mimetype": "text/x-python",
   "name": "python",
   "nbconvert_exporter": "python",
   "pygments_lexer": "ipython3",
   "version": "3.6.3"
  }
 },
 "nbformat": 4,
 "nbformat_minor": 2
}
